{
 "cells": [
  {
   "cell_type": "markdown",
   "id": "caa0b1e7",
   "metadata": {},
   "source": [
    "## Predictive Analysis of Human Activities"
   ]
  },
  {
   "cell_type": "code",
   "execution_count": 2,
   "id": "f793257e",
   "metadata": {},
   "outputs": [
    {
     "data": {
      "text/html": [
       "<div>\n",
       "<style scoped>\n",
       "    .dataframe tbody tr th:only-of-type {\n",
       "        vertical-align: middle;\n",
       "    }\n",
       "\n",
       "    .dataframe tbody tr th {\n",
       "        vertical-align: top;\n",
       "    }\n",
       "\n",
       "    .dataframe thead th {\n",
       "        text-align: right;\n",
       "    }\n",
       "</style>\n",
       "<table border=\"1\" class=\"dataframe\">\n",
       "  <thead>\n",
       "    <tr style=\"text-align: right;\">\n",
       "      <th></th>\n",
       "      <th>T_xacc</th>\n",
       "      <th>T_yacc</th>\n",
       "      <th>T_zacc</th>\n",
       "      <th>T_xgyro</th>\n",
       "      <th>T_ygyro</th>\n",
       "      <th>T_zgyro</th>\n",
       "      <th>T_xmag</th>\n",
       "      <th>T_ymag</th>\n",
       "      <th>T_zmag</th>\n",
       "      <th>RA_xacc</th>\n",
       "      <th>...</th>\n",
       "      <th>LL_yacc</th>\n",
       "      <th>LL_zacc</th>\n",
       "      <th>LL_xgyro</th>\n",
       "      <th>LL_ygyro</th>\n",
       "      <th>LL_zgyro</th>\n",
       "      <th>LL_xmag</th>\n",
       "      <th>LL_ymag</th>\n",
       "      <th>LL_zmag</th>\n",
       "      <th>Subject</th>\n",
       "      <th>Activity</th>\n",
       "    </tr>\n",
       "  </thead>\n",
       "  <tbody>\n",
       "    <tr>\n",
       "      <th>0</th>\n",
       "      <td>8.0411</td>\n",
       "      <td>1.1530</td>\n",
       "      <td>5.5141</td>\n",
       "      <td>-0.024100</td>\n",
       "      <td>-0.002951</td>\n",
       "      <td>0.007333</td>\n",
       "      <td>-0.78981</td>\n",
       "      <td>-0.072298</td>\n",
       "      <td>0.14805</td>\n",
       "      <td>0.61037</td>\n",
       "      <td>...</td>\n",
       "      <td>-9.0633</td>\n",
       "      <td>2.6393</td>\n",
       "      <td>-0.004407</td>\n",
       "      <td>-0.000894</td>\n",
       "      <td>-0.000569</td>\n",
       "      <td>0.74138</td>\n",
       "      <td>0.30115</td>\n",
       "      <td>-0.056264</td>\n",
       "      <td>1</td>\n",
       "      <td>1</td>\n",
       "    </tr>\n",
       "    <tr>\n",
       "      <th>1</th>\n",
       "      <td>8.1009</td>\n",
       "      <td>1.1382</td>\n",
       "      <td>5.3951</td>\n",
       "      <td>-0.002307</td>\n",
       "      <td>-0.005099</td>\n",
       "      <td>-0.007220</td>\n",
       "      <td>-0.78982</td>\n",
       "      <td>-0.071518</td>\n",
       "      <td>0.14791</td>\n",
       "      <td>0.62262</td>\n",
       "      <td>...</td>\n",
       "      <td>-9.0633</td>\n",
       "      <td>2.6615</td>\n",
       "      <td>-0.008110</td>\n",
       "      <td>-0.005275</td>\n",
       "      <td>0.004845</td>\n",
       "      <td>0.74128</td>\n",
       "      <td>0.30287</td>\n",
       "      <td>-0.057228</td>\n",
       "      <td>1</td>\n",
       "      <td>1</td>\n",
       "    </tr>\n",
       "    <tr>\n",
       "      <th>2</th>\n",
       "      <td>8.0859</td>\n",
       "      <td>1.1159</td>\n",
       "      <td>5.4321</td>\n",
       "      <td>0.001318</td>\n",
       "      <td>0.000328</td>\n",
       "      <td>-0.001767</td>\n",
       "      <td>-0.79104</td>\n",
       "      <td>-0.072855</td>\n",
       "      <td>0.15002</td>\n",
       "      <td>0.59345</td>\n",
       "      <td>...</td>\n",
       "      <td>-9.0635</td>\n",
       "      <td>2.6326</td>\n",
       "      <td>-0.014279</td>\n",
       "      <td>0.007983</td>\n",
       "      <td>-0.002314</td>\n",
       "      <td>0.74225</td>\n",
       "      <td>0.30325</td>\n",
       "      <td>-0.054814</td>\n",
       "      <td>1</td>\n",
       "      <td>1</td>\n",
       "    </tr>\n",
       "    <tr>\n",
       "      <th>3</th>\n",
       "      <td>8.0710</td>\n",
       "      <td>1.1382</td>\n",
       "      <td>5.4545</td>\n",
       "      <td>0.001293</td>\n",
       "      <td>-0.006885</td>\n",
       "      <td>-0.005384</td>\n",
       "      <td>-0.79078</td>\n",
       "      <td>-0.070271</td>\n",
       "      <td>0.15001</td>\n",
       "      <td>0.57373</td>\n",
       "      <td>...</td>\n",
       "      <td>-9.0935</td>\n",
       "      <td>2.6328</td>\n",
       "      <td>-0.018723</td>\n",
       "      <td>0.006059</td>\n",
       "      <td>-0.007749</td>\n",
       "      <td>0.74230</td>\n",
       "      <td>0.30325</td>\n",
       "      <td>-0.054149</td>\n",
       "      <td>1</td>\n",
       "      <td>1</td>\n",
       "    </tr>\n",
       "    <tr>\n",
       "      <th>4</th>\n",
       "      <td>8.0708</td>\n",
       "      <td>1.1231</td>\n",
       "      <td>5.5141</td>\n",
       "      <td>-0.021358</td>\n",
       "      <td>0.000598</td>\n",
       "      <td>0.005500</td>\n",
       "      <td>-0.79211</td>\n",
       "      <td>-0.072200</td>\n",
       "      <td>0.15011</td>\n",
       "      <td>0.54932</td>\n",
       "      <td>...</td>\n",
       "      <td>-9.0935</td>\n",
       "      <td>2.6180</td>\n",
       "      <td>0.007612</td>\n",
       "      <td>0.009518</td>\n",
       "      <td>-0.018648</td>\n",
       "      <td>0.73976</td>\n",
       "      <td>0.30298</td>\n",
       "      <td>-0.056217</td>\n",
       "      <td>1</td>\n",
       "      <td>1</td>\n",
       "    </tr>\n",
       "  </tbody>\n",
       "</table>\n",
       "<p>5 rows × 47 columns</p>\n",
       "</div>"
      ],
      "text/plain": [
       "   T_xacc  T_yacc  T_zacc   T_xgyro   T_ygyro   T_zgyro   T_xmag    T_ymag  \\\n",
       "0  8.0411  1.1530  5.5141 -0.024100 -0.002951  0.007333 -0.78981 -0.072298   \n",
       "1  8.1009  1.1382  5.3951 -0.002307 -0.005099 -0.007220 -0.78982 -0.071518   \n",
       "2  8.0859  1.1159  5.4321  0.001318  0.000328 -0.001767 -0.79104 -0.072855   \n",
       "3  8.0710  1.1382  5.4545  0.001293 -0.006885 -0.005384 -0.79078 -0.070271   \n",
       "4  8.0708  1.1231  5.5141 -0.021358  0.000598  0.005500 -0.79211 -0.072200   \n",
       "\n",
       "    T_zmag  RA_xacc  ...  LL_yacc  LL_zacc  LL_xgyro  LL_ygyro  LL_zgyro  \\\n",
       "0  0.14805  0.61037  ...  -9.0633   2.6393 -0.004407 -0.000894 -0.000569   \n",
       "1  0.14791  0.62262  ...  -9.0633   2.6615 -0.008110 -0.005275  0.004845   \n",
       "2  0.15002  0.59345  ...  -9.0635   2.6326 -0.014279  0.007983 -0.002314   \n",
       "3  0.15001  0.57373  ...  -9.0935   2.6328 -0.018723  0.006059 -0.007749   \n",
       "4  0.15011  0.54932  ...  -9.0935   2.6180  0.007612  0.009518 -0.018648   \n",
       "\n",
       "   LL_xmag  LL_ymag   LL_zmag  Subject  Activity  \n",
       "0  0.74138  0.30115 -0.056264        1         1  \n",
       "1  0.74128  0.30287 -0.057228        1         1  \n",
       "2  0.74225  0.30325 -0.054814        1         1  \n",
       "3  0.74230  0.30325 -0.054149        1         1  \n",
       "4  0.73976  0.30298 -0.056217        1         1  \n",
       "\n",
       "[5 rows x 47 columns]"
      ]
     },
     "execution_count": 2,
     "metadata": {},
     "output_type": "execute_result"
    }
   ],
   "source": [
    "# Converting all .txt to concatinatted .csv file\n",
    "import os\n",
    "import pandas as pd\n",
    "\n",
    "# Concatenating 19 dataframes\n",
    "def read_and_concat_data(activity_dir): \n",
    "    data = []\n",
    "    for i in range(1, 9):\n",
    "        participant_data = []\n",
    "        directory = os.path.join(activity_dir, f\"p{i}\")\n",
    "        filelist = os.listdir(directory)\n",
    "        for file in filelist:\n",
    "            filepath = os.path.join(directory, file)\n",
    "            df = pd.read_csv(filepath, sep=\",\", header=None)\n",
    "            participant_data.append(df)\n",
    "        activity_data = pd.concat(participant_data)\n",
    "        data.append(activity_data)\n",
    "    return data\n",
    "\n",
    "# creating dataset for all 8 activities\n",
    "def preprocess_data(data, activity):\n",
    "    for idx, df in enumerate(data):\n",
    "        df.columns = [\"T_xacc\", \"T_yacc\", \"T_zacc\", \"T_xgyro\", \"T_ygyro\", \"T_zgyro\",\"T_xmag\", \"T_ymag\", \"T_zmag\",\n",
    "                     \"RA_xacc\", \"RA_yacc\", \"RA_zacc\", \"RA_xgyro\", \"RA_ygyro\", \"RA_zgyro\", \"RA_xmag\", \"RA_ymag\", \"RA_zmag\",\n",
    "                     \"LA_xacc\", \"LA_yacc\", \"LA_zacc\", \"LA_xgyro\", \"LA_ygyro\", \"LA_zgyro\", \"LA_xmag\", \"LA_ymag\", \"LA_zmag\",\n",
    "                     \"RL_xacc\", \"RL_yacc\", \"RL_zacc\", \"RL_xgyro\", \"RL_ygyro\", \"RL_zgyro\", \"RL_xmag\", \"RL_ymag\", \"RL_zmag\",\n",
    "                     \"LL_xacc\", \"LL_yacc\", \"LL_zacc\", \"LL_xgyro\", \"LL_ygyro\", \"LL_zgyro\", \"LL_xmag\", \"LL_ymag\", \"LL_zmag\"]\n",
    "        df.insert(45, 'Subject', idx+1)\n",
    "        df.insert(46, 'Activity', activity)\n",
    "\n",
    "# Combining data for all activities\n",
    "activities_data = []\n",
    "for i in range(1, 20):  # Adjusted for 19 activities\n",
    "    activity_dir = f'/Users/omkarvilasnarkar/Downloads/Project/Predictions_of_Human_Activities/data_txt/a{i:02d}'\n",
    "    activity_data = read_and_concat_data(activity_dir)\n",
    "    preprocess_data(activity_data, i)  # Adjusted the preprocessing step here\n",
    "    activities_data.extend(activity_data)\n",
    "\n",
    "dataset = pd.concat(activities_data, ignore_index=True)\n",
    "dataset.head()\n"
   ]
  },
  {
   "cell_type": "code",
   "execution_count": 4,
   "id": "994e5758",
   "metadata": {},
   "outputs": [],
   "source": [
    "# Converting the concatenated dataframe to the .csv file\n",
    "dataset.to_csv('dataset.csv', index=False)\n",
    "df = dataset\n"
   ]
  },
  {
   "cell_type": "code",
   "execution_count": 46,
   "id": "269e7f5d",
   "metadata": {},
   "outputs": [],
   "source": [
    "# Converting the .csv file to .parquet Azure\n",
    "df.to_parquet('dataset.parquet')"
   ]
  },
  {
   "cell_type": "code",
   "execution_count": 5,
   "id": "13dfcc55",
   "metadata": {},
   "outputs": [
    {
     "name": "stdout",
     "output_type": "stream",
     "text": [
      " Rows : 1140000,\n",
      " Columns: 47\n"
     ]
    }
   ],
   "source": [
    "# Identifying Rows and columns of the dataset\n",
    "\n",
    "print(f' Rows : {df.shape[0]},\\n Columns: {df.shape[1]}')"
   ]
  },
  {
   "cell_type": "code",
   "execution_count": 6,
   "id": "d6078180",
   "metadata": {},
   "outputs": [
    {
     "data": {
      "text/plain": [
       "Index(['T_xacc', 'T_yacc', 'T_zacc', 'T_xgyro', 'T_ygyro', 'T_zgyro', 'T_xmag',\n",
       "       'T_ymag', 'T_zmag', 'RA_xacc', 'RA_yacc', 'RA_zacc', 'RA_xgyro',\n",
       "       'RA_ygyro', 'RA_zgyro', 'RA_xmag', 'RA_ymag', 'RA_zmag', 'LA_xacc',\n",
       "       'LA_yacc', 'LA_zacc', 'LA_xgyro', 'LA_ygyro', 'LA_zgyro', 'LA_xmag',\n",
       "       'LA_ymag', 'LA_zmag', 'RL_xacc', 'RL_yacc', 'RL_zacc', 'RL_xgyro',\n",
       "       'RL_ygyro', 'RL_zgyro', 'RL_xmag', 'RL_ymag', 'RL_zmag', 'LL_xacc',\n",
       "       'LL_yacc', 'LL_zacc', 'LL_xgyro', 'LL_ygyro', 'LL_zgyro', 'LL_xmag',\n",
       "       'LL_ymag', 'LL_zmag', 'Subject', 'Activity'],\n",
       "      dtype='object')"
      ]
     },
     "execution_count": 6,
     "metadata": {},
     "output_type": "execute_result"
    }
   ],
   "source": [
    "# Columns of the dataset\n",
    "\n",
    "df.columns"
   ]
  },
  {
   "cell_type": "code",
   "execution_count": 7,
   "id": "61d5b915",
   "metadata": {},
   "outputs": [
    {
     "data": {
      "text/plain": [
       "False"
      ]
     },
     "execution_count": 7,
     "metadata": {},
     "output_type": "execute_result"
    }
   ],
   "source": [
    "# Is there any Null values?\n",
    "\n",
    "df.isnull().values.any()"
   ]
  },
  {
   "cell_type": "code",
   "execution_count": null,
   "id": "2cd3bcfc",
   "metadata": {},
   "outputs": [],
   "source": []
  },
  {
   "cell_type": "code",
   "execution_count": null,
   "id": "d7245011",
   "metadata": {},
   "outputs": [],
   "source": []
  },
  {
   "cell_type": "code",
   "execution_count": null,
   "id": "6fa655a7",
   "metadata": {},
   "outputs": [],
   "source": []
  },
  {
   "cell_type": "code",
   "execution_count": null,
   "id": "a055abc5",
   "metadata": {},
   "outputs": [],
   "source": []
  },
  {
   "cell_type": "code",
   "execution_count": null,
   "id": "49cf4c89",
   "metadata": {},
   "outputs": [],
   "source": []
  },
  {
   "cell_type": "code",
   "execution_count": null,
   "id": "dd0b6da4",
   "metadata": {},
   "outputs": [],
   "source": []
  },
  {
   "cell_type": "code",
   "execution_count": null,
   "id": "71558b01",
   "metadata": {},
   "outputs": [],
   "source": []
  }
 ],
 "metadata": {
  "kernelspec": {
   "display_name": "Python 3 (ipykernel)",
   "language": "python",
   "name": "python3"
  },
  "language_info": {
   "codemirror_mode": {
    "name": "ipython",
    "version": 3
   },
   "file_extension": ".py",
   "mimetype": "text/x-python",
   "name": "python",
   "nbconvert_exporter": "python",
   "pygments_lexer": "ipython3",
   "version": "3.11.5"
  }
 },
 "nbformat": 4,
 "nbformat_minor": 5
}
